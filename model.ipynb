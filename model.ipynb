{
 "cells": [
  {
   "cell_type": "markdown",
   "id": "1592a84e",
   "metadata": {},
   "source": [
    "### Importing required packages"
   ]
  },
  {
   "cell_type": "code",
   "execution_count": 29,
   "id": "3a9c8352",
   "metadata": {},
   "outputs": [],
   "source": [
    "import os\n",
    "import numpy as np\n",
    "import pandas as pd\n",
    "import matplotlib.pyplot as plt\n",
    "import seaborn as sns\n",
    "import warnings\n",
    "warnings.filterwarnings('ignore')"
   ]
  },
  {
   "cell_type": "markdown",
   "id": "ff3cb418",
   "metadata": {},
   "source": [
    "### To read Dataset"
   ]
  },
  {
   "cell_type": "code",
   "execution_count": 30,
   "id": "11e4aa54",
   "metadata": {},
   "outputs": [
    {
     "data": {
      "text/html": [
       "<div>\n",
       "<style scoped>\n",
       "    .dataframe tbody tr th:only-of-type {\n",
       "        vertical-align: middle;\n",
       "    }\n",
       "\n",
       "    .dataframe tbody tr th {\n",
       "        vertical-align: top;\n",
       "    }\n",
       "\n",
       "    .dataframe thead th {\n",
       "        text-align: right;\n",
       "    }\n",
       "</style>\n",
       "<table border=\"1\" class=\"dataframe\">\n",
       "  <thead>\n",
       "    <tr style=\"text-align: right;\">\n",
       "      <th></th>\n",
       "      <th>Platform</th>\n",
       "      <th>Course Name</th>\n",
       "      <th>University</th>\n",
       "      <th>Difficulty Level</th>\n",
       "      <th>Course URL</th>\n",
       "      <th>Course Description</th>\n",
       "      <th>Skills</th>\n",
       "    </tr>\n",
       "  </thead>\n",
       "  <tbody>\n",
       "    <tr>\n",
       "      <th>4203</th>\n",
       "      <td>edx</td>\n",
       "      <td>Global China: From the Mongols to the Ming</td>\n",
       "      <td>Harvard University</td>\n",
       "      <td>Beginner</td>\n",
       "      <td>https://www.edx.org/course/global-china-from-t...</td>\n",
       "      <td>Explore the impact of the conquest dynasties a...</td>\n",
       "      <td>In the 13th century, by force of arms, the Mon...</td>\n",
       "    </tr>\n",
       "    <tr>\n",
       "      <th>4204</th>\n",
       "      <td>edx</td>\n",
       "      <td>Leaders in Citizen Security and Justice Manage...</td>\n",
       "      <td>Inter-American Development Bank</td>\n",
       "      <td>Intermediate</td>\n",
       "      <td>https://www.edx.org/course/leaders-in-citizen-...</td>\n",
       "      <td>Learn about the latest in prevention, police a...</td>\n",
       "      <td>The high rates of crime and violence are two o...</td>\n",
       "    </tr>\n",
       "    <tr>\n",
       "      <th>4205</th>\n",
       "      <td>edx</td>\n",
       "      <td>Computational Neuroscience: Neuronal Dynamics ...</td>\n",
       "      <td>École polytechnique fédérale de Lausanne</td>\n",
       "      <td>Advanced</td>\n",
       "      <td>https://www.edx.org/course/computational-neuro...</td>\n",
       "      <td>This course explains the mathematical and comp...</td>\n",
       "      <td>What happens in your brain when you make a dec...</td>\n",
       "    </tr>\n",
       "    <tr>\n",
       "      <th>4206</th>\n",
       "      <td>edx</td>\n",
       "      <td>Cities and the Challenge of Sustainable Develo...</td>\n",
       "      <td>SDG Academy</td>\n",
       "      <td>Beginner</td>\n",
       "      <td>https://www.edx.org/course/cities-and-the-chal...</td>\n",
       "      <td>What is a sustainable city? Learn the basics h...</td>\n",
       "      <td>According to the United Nations, urbanization ...</td>\n",
       "    </tr>\n",
       "    <tr>\n",
       "      <th>4207</th>\n",
       "      <td>edx</td>\n",
       "      <td>MathTrackX: Special Functions</td>\n",
       "      <td>University of Adelaide</td>\n",
       "      <td>Beginner</td>\n",
       "      <td>https://www.edx.org/course/mathtrackx-special-...</td>\n",
       "      <td>Understand trigonometric, exponential and loga...</td>\n",
       "      <td>This course is part two of the MathTrackX XSer...</td>\n",
       "    </tr>\n",
       "  </tbody>\n",
       "</table>\n",
       "</div>"
      ],
      "text/plain": [
       "     Platform                                        Course Name  \\\n",
       "4203      edx         Global China: From the Mongols to the Ming   \n",
       "4204      edx  Leaders in Citizen Security and Justice Manage...   \n",
       "4205      edx  Computational Neuroscience: Neuronal Dynamics ...   \n",
       "4206      edx  Cities and the Challenge of Sustainable Develo...   \n",
       "4207      edx                      MathTrackX: Special Functions   \n",
       "\n",
       "                                    University Difficulty Level  \\\n",
       "4203                        Harvard University         Beginner   \n",
       "4204           Inter-American Development Bank     Intermediate   \n",
       "4205  École polytechnique fédérale de Lausanne         Advanced   \n",
       "4206                               SDG Academy         Beginner   \n",
       "4207                    University of Adelaide         Beginner   \n",
       "\n",
       "                                             Course URL  \\\n",
       "4203  https://www.edx.org/course/global-china-from-t...   \n",
       "4204  https://www.edx.org/course/leaders-in-citizen-...   \n",
       "4205  https://www.edx.org/course/computational-neuro...   \n",
       "4206  https://www.edx.org/course/cities-and-the-chal...   \n",
       "4207  https://www.edx.org/course/mathtrackx-special-...   \n",
       "\n",
       "                                     Course Description  \\\n",
       "4203  Explore the impact of the conquest dynasties a...   \n",
       "4204  Learn about the latest in prevention, police a...   \n",
       "4205  This course explains the mathematical and comp...   \n",
       "4206  What is a sustainable city? Learn the basics h...   \n",
       "4207  Understand trigonometric, exponential and loga...   \n",
       "\n",
       "                                                 Skills  \n",
       "4203  In the 13th century, by force of arms, the Mon...  \n",
       "4204  The high rates of crime and violence are two o...  \n",
       "4205  What happens in your brain when you make a dec...  \n",
       "4206  According to the United Nations, urbanization ...  \n",
       "4207  This course is part two of the MathTrackX XSer...  "
      ]
     },
     "execution_count": 30,
     "metadata": {},
     "output_type": "execute_result"
    }
   ],
   "source": [
    "data = pd.read_csv(r\"D:\\course.csv\")\n",
    "data.tail()"
   ]
  },
  {
   "cell_type": "markdown",
   "id": "cdda5023",
   "metadata": {},
   "source": [
    "#### Data Description"
   ]
  },
  {
   "cell_type": "code",
   "execution_count": 31,
   "id": "1fea28a9",
   "metadata": {},
   "outputs": [
    {
     "data": {
      "text/plain": [
       "(4208, 7)"
      ]
     },
     "execution_count": 31,
     "metadata": {},
     "output_type": "execute_result"
    }
   ],
   "source": [
    "data.shape"
   ]
  },
  {
   "cell_type": "code",
   "execution_count": 32,
   "id": "f088d26f",
   "metadata": {},
   "outputs": [],
   "source": [
    "data = data[[\"Platform\",'Course Name','Difficulty Level',\"Course URL\",'Course Description','Skills']]"
   ]
  },
  {
   "cell_type": "code",
   "execution_count": 33,
   "id": "71eff543",
   "metadata": {},
   "outputs": [
    {
     "data": {
      "text/html": [
       "<div>\n",
       "<style scoped>\n",
       "    .dataframe tbody tr th:only-of-type {\n",
       "        vertical-align: middle;\n",
       "    }\n",
       "\n",
       "    .dataframe tbody tr th {\n",
       "        vertical-align: top;\n",
       "    }\n",
       "\n",
       "    .dataframe thead th {\n",
       "        text-align: right;\n",
       "    }\n",
       "</style>\n",
       "<table border=\"1\" class=\"dataframe\">\n",
       "  <thead>\n",
       "    <tr style=\"text-align: right;\">\n",
       "      <th></th>\n",
       "      <th>Platform</th>\n",
       "      <th>Course Name</th>\n",
       "      <th>Difficulty Level</th>\n",
       "      <th>Course URL</th>\n",
       "      <th>Course Description</th>\n",
       "      <th>Skills</th>\n",
       "    </tr>\n",
       "  </thead>\n",
       "  <tbody>\n",
       "    <tr>\n",
       "      <th>0</th>\n",
       "      <td>Coursera</td>\n",
       "      <td>Write A Feature Length Screenplay For Film Or ...</td>\n",
       "      <td>Beginner</td>\n",
       "      <td>https://www.coursera.org/learn/write-a-feature...</td>\n",
       "      <td>Write a Full Length Feature Film Script  In th...</td>\n",
       "      <td>Drama  Comedy  peering  screenwriting  film  D...</td>\n",
       "    </tr>\n",
       "    <tr>\n",
       "      <th>1</th>\n",
       "      <td>Coursera</td>\n",
       "      <td>Business Strategy: Business Model Canvas Analy...</td>\n",
       "      <td>Beginner</td>\n",
       "      <td>https://www.coursera.org/learn/canvas-analysis...</td>\n",
       "      <td>By the end of this guided project, you will be...</td>\n",
       "      <td>Finance  business plan  persona (user experien...</td>\n",
       "    </tr>\n",
       "    <tr>\n",
       "      <th>2</th>\n",
       "      <td>Coursera</td>\n",
       "      <td>Silicon Thin Film Solar Cells</td>\n",
       "      <td>Advanced</td>\n",
       "      <td>https://www.coursera.org/learn/silicon-thin-fi...</td>\n",
       "      <td>This course consists of a general presentation...</td>\n",
       "      <td>chemistry  physics  Solar Energy  film  lambda...</td>\n",
       "    </tr>\n",
       "    <tr>\n",
       "      <th>3</th>\n",
       "      <td>Coursera</td>\n",
       "      <td>Finance for Managers</td>\n",
       "      <td>Intermediate</td>\n",
       "      <td>https://www.coursera.org/learn/operational-fin...</td>\n",
       "      <td>When it comes to numbers, there is always more...</td>\n",
       "      <td>accounts receivable  dupont analysis  analysis...</td>\n",
       "    </tr>\n",
       "    <tr>\n",
       "      <th>4</th>\n",
       "      <td>Coursera</td>\n",
       "      <td>Retrieve Data using Single-Table SQL Queries</td>\n",
       "      <td>Beginner</td>\n",
       "      <td>https://www.coursera.org/learn/single-table-sq...</td>\n",
       "      <td>In this course you�ll learn how to effectively...</td>\n",
       "      <td>Data Analysis  select (sql)  database manageme...</td>\n",
       "    </tr>\n",
       "  </tbody>\n",
       "</table>\n",
       "</div>"
      ],
      "text/plain": [
       "   Platform                                        Course Name  \\\n",
       "0  Coursera  Write A Feature Length Screenplay For Film Or ...   \n",
       "1  Coursera  Business Strategy: Business Model Canvas Analy...   \n",
       "2  Coursera                      Silicon Thin Film Solar Cells   \n",
       "3  Coursera                               Finance for Managers   \n",
       "4  Coursera       Retrieve Data using Single-Table SQL Queries   \n",
       "\n",
       "  Difficulty Level                                         Course URL  \\\n",
       "0         Beginner  https://www.coursera.org/learn/write-a-feature...   \n",
       "1         Beginner  https://www.coursera.org/learn/canvas-analysis...   \n",
       "2         Advanced  https://www.coursera.org/learn/silicon-thin-fi...   \n",
       "3     Intermediate  https://www.coursera.org/learn/operational-fin...   \n",
       "4         Beginner  https://www.coursera.org/learn/single-table-sq...   \n",
       "\n",
       "                                  Course Description  \\\n",
       "0  Write a Full Length Feature Film Script  In th...   \n",
       "1  By the end of this guided project, you will be...   \n",
       "2  This course consists of a general presentation...   \n",
       "3  When it comes to numbers, there is always more...   \n",
       "4  In this course you�ll learn how to effectively...   \n",
       "\n",
       "                                              Skills  \n",
       "0  Drama  Comedy  peering  screenwriting  film  D...  \n",
       "1  Finance  business plan  persona (user experien...  \n",
       "2  chemistry  physics  Solar Energy  film  lambda...  \n",
       "3  accounts receivable  dupont analysis  analysis...  \n",
       "4  Data Analysis  select (sql)  database manageme...  "
      ]
     },
     "execution_count": 33,
     "metadata": {},
     "output_type": "execute_result"
    }
   ],
   "source": [
    "data.head()"
   ]
  },
  {
   "cell_type": "markdown",
   "id": "6c9ebbaa",
   "metadata": {},
   "source": [
    "#### Data Transformation"
   ]
  },
  {
   "cell_type": "code",
   "execution_count": 34,
   "id": "fdd2a8eb",
   "metadata": {},
   "outputs": [
    {
     "data": {
      "text/html": [
       "<div>\n",
       "<style scoped>\n",
       "    .dataframe tbody tr th:only-of-type {\n",
       "        vertical-align: middle;\n",
       "    }\n",
       "\n",
       "    .dataframe tbody tr th {\n",
       "        vertical-align: top;\n",
       "    }\n",
       "\n",
       "    .dataframe thead th {\n",
       "        text-align: right;\n",
       "    }\n",
       "</style>\n",
       "<table border=\"1\" class=\"dataframe\">\n",
       "  <thead>\n",
       "    <tr style=\"text-align: right;\">\n",
       "      <th></th>\n",
       "      <th>Skills</th>\n",
       "    </tr>\n",
       "  </thead>\n",
       "  <tbody>\n",
       "    <tr>\n",
       "      <th>0</th>\n",
       "      <td>Drama  Comedy  peering  screenwriting  film  D...</td>\n",
       "    </tr>\n",
       "    <tr>\n",
       "      <th>1</th>\n",
       "      <td>Finance  business plan  persona (user experien...</td>\n",
       "    </tr>\n",
       "    <tr>\n",
       "      <th>2</th>\n",
       "      <td>chemistry  physics  Solar Energy  film  lambda...</td>\n",
       "    </tr>\n",
       "    <tr>\n",
       "      <th>3</th>\n",
       "      <td>accounts receivable  dupont analysis  analysis...</td>\n",
       "    </tr>\n",
       "    <tr>\n",
       "      <th>4</th>\n",
       "      <td>Data Analysis  select (sql)  database manageme...</td>\n",
       "    </tr>\n",
       "    <tr>\n",
       "      <th>...</th>\n",
       "      <td>...</td>\n",
       "    </tr>\n",
       "    <tr>\n",
       "      <th>4203</th>\n",
       "      <td>In the 13th century, by force of arms, the Mon...</td>\n",
       "    </tr>\n",
       "    <tr>\n",
       "      <th>4204</th>\n",
       "      <td>The high rates of crime and violence are two o...</td>\n",
       "    </tr>\n",
       "    <tr>\n",
       "      <th>4205</th>\n",
       "      <td>What happens in your brain when you make a dec...</td>\n",
       "    </tr>\n",
       "    <tr>\n",
       "      <th>4206</th>\n",
       "      <td>According to the United Nations, urbanization ...</td>\n",
       "    </tr>\n",
       "    <tr>\n",
       "      <th>4207</th>\n",
       "      <td>This course is part two of the MathTrackX XSer...</td>\n",
       "    </tr>\n",
       "  </tbody>\n",
       "</table>\n",
       "<p>4208 rows × 1 columns</p>\n",
       "</div>"
      ],
      "text/plain": [
       "                                                 Skills\n",
       "0     Drama  Comedy  peering  screenwriting  film  D...\n",
       "1     Finance  business plan  persona (user experien...\n",
       "2     chemistry  physics  Solar Energy  film  lambda...\n",
       "3     accounts receivable  dupont analysis  analysis...\n",
       "4     Data Analysis  select (sql)  database manageme...\n",
       "...                                                 ...\n",
       "4203  In the 13th century, by force of arms, the Mon...\n",
       "4204  The high rates of crime and violence are two o...\n",
       "4205  What happens in your brain when you make a dec...\n",
       "4206  According to the United Nations, urbanization ...\n",
       "4207  This course is part two of the MathTrackX XSer...\n",
       "\n",
       "[4208 rows x 1 columns]"
      ]
     },
     "execution_count": 34,
     "metadata": {},
     "output_type": "execute_result"
    }
   ],
   "source": [
    "skills = pd.DataFrame(data[\"Skills\"])\n",
    "skills"
   ]
  },
  {
   "cell_type": "code",
   "execution_count": 35,
   "id": "465e90ea",
   "metadata": {},
   "outputs": [],
   "source": [
    "# Removing spaces between the words (Lambda funtions can be used as well)\n",
    "\n",
    "data['Course Name'] = data['Course Name'].str.replace(' ',',')\n",
    "data['Course Name'] = data['Course Name'].str.replace(',,',',')\n",
    "data['Course Name'] = data['Course Name'].str.replace(':','')\n",
    "data['Course Description'] = data['Course Description'].str.replace(' ',',')\n",
    "data['Course Description'] = data['Course Description'].str.replace(',,',',')\n",
    "data['Course Description'] = data['Course Description'].str.replace('_','')\n",
    "data['Course Description'] = data['Course Description'].str.replace(':','')\n",
    "data['Course Description'] = data['Course Description'].str.replace('(','')\n",
    "data['Course Description'] = data['Course Description'].str.replace(')','')\n",
    "\n",
    "#removing paranthesis from skills columns \n",
    "data['Skills'] = data['Skills'].str.replace('(','')\n",
    "data['Skills'] = data['Skills'].str.replace(')','')"
   ]
  },
  {
   "cell_type": "code",
   "execution_count": 36,
   "id": "6d3dcb21",
   "metadata": {},
   "outputs": [],
   "source": [
    "data['tags'] = data['Course Name'] + data['Difficulty Level'] + data['Course Description'] + data['Skills'] "
   ]
  },
  {
   "cell_type": "code",
   "execution_count": 37,
   "id": "d49cd9ac",
   "metadata": {},
   "outputs": [
    {
     "data": {
      "text/html": [
       "<div>\n",
       "<style scoped>\n",
       "    .dataframe tbody tr th:only-of-type {\n",
       "        vertical-align: middle;\n",
       "    }\n",
       "\n",
       "    .dataframe tbody tr th {\n",
       "        vertical-align: top;\n",
       "    }\n",
       "\n",
       "    .dataframe thead th {\n",
       "        text-align: right;\n",
       "    }\n",
       "</style>\n",
       "<table border=\"1\" class=\"dataframe\">\n",
       "  <thead>\n",
       "    <tr style=\"text-align: right;\">\n",
       "      <th></th>\n",
       "      <th>Platform</th>\n",
       "      <th>Course Name</th>\n",
       "      <th>Difficulty Level</th>\n",
       "      <th>Course URL</th>\n",
       "      <th>Course Description</th>\n",
       "      <th>Skills</th>\n",
       "      <th>tags</th>\n",
       "    </tr>\n",
       "  </thead>\n",
       "  <tbody>\n",
       "    <tr>\n",
       "      <th>0</th>\n",
       "      <td>Coursera</td>\n",
       "      <td>Write,A,Feature,Length,Screenplay,For,Film,Or,...</td>\n",
       "      <td>Beginner</td>\n",
       "      <td>https://www.coursera.org/learn/write-a-feature...</td>\n",
       "      <td>Write,a,Full,Length,Feature,Film,Script,In,thi...</td>\n",
       "      <td>Drama  Comedy  peering  screenwriting  film  D...</td>\n",
       "      <td>Write,A,Feature,Length,Screenplay,For,Film,Or,...</td>\n",
       "    </tr>\n",
       "    <tr>\n",
       "      <th>1</th>\n",
       "      <td>Coursera</td>\n",
       "      <td>Business,Strategy,Business,Model,Canvas,Analys...</td>\n",
       "      <td>Beginner</td>\n",
       "      <td>https://www.coursera.org/learn/canvas-analysis...</td>\n",
       "      <td>By,the,end,of,this,guided,project,you,will,be,...</td>\n",
       "      <td>Finance  business plan  persona user experienc...</td>\n",
       "      <td>Business,Strategy,Business,Model,Canvas,Analys...</td>\n",
       "    </tr>\n",
       "    <tr>\n",
       "      <th>2</th>\n",
       "      <td>Coursera</td>\n",
       "      <td>Silicon,Thin,Film,Solar,Cells</td>\n",
       "      <td>Advanced</td>\n",
       "      <td>https://www.coursera.org/learn/silicon-thin-fi...</td>\n",
       "      <td>This,course,consists,of,a,general,presentation...</td>\n",
       "      <td>chemistry  physics  Solar Energy  film  lambda...</td>\n",
       "      <td>Silicon,Thin,Film,Solar,CellsAdvancedThis,cour...</td>\n",
       "    </tr>\n",
       "    <tr>\n",
       "      <th>3</th>\n",
       "      <td>Coursera</td>\n",
       "      <td>Finance,for,Managers</td>\n",
       "      <td>Intermediate</td>\n",
       "      <td>https://www.coursera.org/learn/operational-fin...</td>\n",
       "      <td>When,it,comes,to,numbers,there,is,always,more,...</td>\n",
       "      <td>accounts receivable  dupont analysis  analysis...</td>\n",
       "      <td>Finance,for,ManagersIntermediateWhen,it,comes,...</td>\n",
       "    </tr>\n",
       "    <tr>\n",
       "      <th>4</th>\n",
       "      <td>Coursera</td>\n",
       "      <td>Retrieve,Data,using,Single-Table,SQL,Queries</td>\n",
       "      <td>Beginner</td>\n",
       "      <td>https://www.coursera.org/learn/single-table-sq...</td>\n",
       "      <td>In,this,course,you�ll,learn,how,to,effectively...</td>\n",
       "      <td>Data Analysis  select sql  database management...</td>\n",
       "      <td>Retrieve,Data,using,Single-Table,SQL,QueriesBe...</td>\n",
       "    </tr>\n",
       "  </tbody>\n",
       "</table>\n",
       "</div>"
      ],
      "text/plain": [
       "   Platform                                        Course Name  \\\n",
       "0  Coursera  Write,A,Feature,Length,Screenplay,For,Film,Or,...   \n",
       "1  Coursera  Business,Strategy,Business,Model,Canvas,Analys...   \n",
       "2  Coursera                      Silicon,Thin,Film,Solar,Cells   \n",
       "3  Coursera                               Finance,for,Managers   \n",
       "4  Coursera       Retrieve,Data,using,Single-Table,SQL,Queries   \n",
       "\n",
       "  Difficulty Level                                         Course URL  \\\n",
       "0         Beginner  https://www.coursera.org/learn/write-a-feature...   \n",
       "1         Beginner  https://www.coursera.org/learn/canvas-analysis...   \n",
       "2         Advanced  https://www.coursera.org/learn/silicon-thin-fi...   \n",
       "3     Intermediate  https://www.coursera.org/learn/operational-fin...   \n",
       "4         Beginner  https://www.coursera.org/learn/single-table-sq...   \n",
       "\n",
       "                                  Course Description  \\\n",
       "0  Write,a,Full,Length,Feature,Film,Script,In,thi...   \n",
       "1  By,the,end,of,this,guided,project,you,will,be,...   \n",
       "2  This,course,consists,of,a,general,presentation...   \n",
       "3  When,it,comes,to,numbers,there,is,always,more,...   \n",
       "4  In,this,course,you�ll,learn,how,to,effectively...   \n",
       "\n",
       "                                              Skills  \\\n",
       "0  Drama  Comedy  peering  screenwriting  film  D...   \n",
       "1  Finance  business plan  persona user experienc...   \n",
       "2  chemistry  physics  Solar Energy  film  lambda...   \n",
       "3  accounts receivable  dupont analysis  analysis...   \n",
       "4  Data Analysis  select sql  database management...   \n",
       "\n",
       "                                                tags  \n",
       "0  Write,A,Feature,Length,Screenplay,For,Film,Or,...  \n",
       "1  Business,Strategy,Business,Model,Canvas,Analys...  \n",
       "2  Silicon,Thin,Film,Solar,CellsAdvancedThis,cour...  \n",
       "3  Finance,for,ManagersIntermediateWhen,it,comes,...  \n",
       "4  Retrieve,Data,using,Single-Table,SQL,QueriesBe...  "
      ]
     },
     "execution_count": 37,
     "metadata": {},
     "output_type": "execute_result"
    }
   ],
   "source": [
    "data.head(5)"
   ]
  },
  {
   "cell_type": "code",
   "execution_count": 38,
   "id": "89644e62",
   "metadata": {},
   "outputs": [
    {
     "data": {
      "text/plain": [
       "'Business,Strategy,Business,Model,Canvas,Analysis,with,MiroBeginnerBy,the,end,of,this,guided,project,you,will,be,fluent,in,identifying,and,creating,Business,Model,Canvas,solutions,based,on,previous,high-level,analyses,and,research,data.,This,will,enable,you,to,identify,and,map,the,elements,required,for,new,products,and,services.,Furthermore,it,is,essential,for,generating,positive,results,for,your,business,venture.,This,guided,project,is,designed,to,engage,and,harness,your,visionary,and,exploratory,abilities.,You,will,use,proven,models,in,strategy,and,product,development,with,the,Miro,platform,to,explore,and,analyse,your,business,propositions.,,We,will,practice,critically,examining,results,from,previous,analysis,and,research,results,in,deriving,the,values,for,each,of,the,business,model,sections.Finance  business plan  persona user experience  business model canvas  Planning  Business  project  Product Development  presentation  Strategy business business-strategy'"
      ]
     },
     "execution_count": 38,
     "metadata": {},
     "output_type": "execute_result"
    }
   ],
   "source": [
    "data['tags'].iloc[1]"
   ]
  },
  {
   "cell_type": "code",
   "execution_count": 39,
   "id": "c000483b",
   "metadata": {},
   "outputs": [],
   "source": [
    "new_d = data[['Course Name','tags','Platform',\"Difficulty Level\",\"Course URL\"]]"
   ]
  },
  {
   "cell_type": "code",
   "execution_count": 46,
   "id": "824520c2",
   "metadata": {},
   "outputs": [
    {
     "data": {
      "text/html": [
       "<div>\n",
       "<style scoped>\n",
       "    .dataframe tbody tr th:only-of-type {\n",
       "        vertical-align: middle;\n",
       "    }\n",
       "\n",
       "    .dataframe tbody tr th {\n",
       "        vertical-align: top;\n",
       "    }\n",
       "\n",
       "    .dataframe thead th {\n",
       "        text-align: right;\n",
       "    }\n",
       "</style>\n",
       "<table border=\"1\" class=\"dataframe\">\n",
       "  <thead>\n",
       "    <tr style=\"text-align: right;\">\n",
       "      <th></th>\n",
       "      <th>Course Name</th>\n",
       "      <th>tags</th>\n",
       "      <th>Platform</th>\n",
       "      <th>Difficulty Level</th>\n",
       "      <th>Course URL</th>\n",
       "      <th>Skills</th>\n",
       "    </tr>\n",
       "  </thead>\n",
       "  <tbody>\n",
       "    <tr>\n",
       "      <th>0</th>\n",
       "      <td>Write,A,Feature,Length,Screenplay,For,Film,Or,...</td>\n",
       "      <td>Write,A,Feature,Length,Screenplay,For,Film,Or,...</td>\n",
       "      <td>Coursera</td>\n",
       "      <td>Beginner</td>\n",
       "      <td>https://www.coursera.org/learn/write-a-feature...</td>\n",
       "      <td>Drama  Comedy  peering  screenwriting  film  D...</td>\n",
       "    </tr>\n",
       "    <tr>\n",
       "      <th>1</th>\n",
       "      <td>Business,Strategy,Business,Model,Canvas,Analys...</td>\n",
       "      <td>Business,Strategy,Business,Model,Canvas,Analys...</td>\n",
       "      <td>Coursera</td>\n",
       "      <td>Beginner</td>\n",
       "      <td>https://www.coursera.org/learn/canvas-analysis...</td>\n",
       "      <td>Finance  business plan  persona (user experien...</td>\n",
       "    </tr>\n",
       "    <tr>\n",
       "      <th>2</th>\n",
       "      <td>Silicon,Thin,Film,Solar,Cells</td>\n",
       "      <td>Silicon,Thin,Film,Solar,CellsAdvancedThis,cour...</td>\n",
       "      <td>Coursera</td>\n",
       "      <td>Advanced</td>\n",
       "      <td>https://www.coursera.org/learn/silicon-thin-fi...</td>\n",
       "      <td>chemistry  physics  Solar Energy  film  lambda...</td>\n",
       "    </tr>\n",
       "    <tr>\n",
       "      <th>3</th>\n",
       "      <td>Finance,for,Managers</td>\n",
       "      <td>Finance,for,ManagersIntermediateWhen,it,comes,...</td>\n",
       "      <td>Coursera</td>\n",
       "      <td>Intermediate</td>\n",
       "      <td>https://www.coursera.org/learn/operational-fin...</td>\n",
       "      <td>accounts receivable  dupont analysis  analysis...</td>\n",
       "    </tr>\n",
       "    <tr>\n",
       "      <th>4</th>\n",
       "      <td>Retrieve,Data,using,Single-Table,SQL,Queries</td>\n",
       "      <td>Retrieve,Data,using,Single-Table,SQL,QueriesBe...</td>\n",
       "      <td>Coursera</td>\n",
       "      <td>Beginner</td>\n",
       "      <td>https://www.coursera.org/learn/single-table-sq...</td>\n",
       "      <td>Data Analysis  select (sql)  database manageme...</td>\n",
       "    </tr>\n",
       "  </tbody>\n",
       "</table>\n",
       "</div>"
      ],
      "text/plain": [
       "                                         Course Name  \\\n",
       "0  Write,A,Feature,Length,Screenplay,For,Film,Or,...   \n",
       "1  Business,Strategy,Business,Model,Canvas,Analys...   \n",
       "2                      Silicon,Thin,Film,Solar,Cells   \n",
       "3                               Finance,for,Managers   \n",
       "4       Retrieve,Data,using,Single-Table,SQL,Queries   \n",
       "\n",
       "                                                tags  Platform  \\\n",
       "0  Write,A,Feature,Length,Screenplay,For,Film,Or,...  Coursera   \n",
       "1  Business,Strategy,Business,Model,Canvas,Analys...  Coursera   \n",
       "2  Silicon,Thin,Film,Solar,CellsAdvancedThis,cour...  Coursera   \n",
       "3  Finance,for,ManagersIntermediateWhen,it,comes,...  Coursera   \n",
       "4  Retrieve,Data,using,Single-Table,SQL,QueriesBe...  Coursera   \n",
       "\n",
       "  Difficulty Level                                         Course URL  \\\n",
       "0         Beginner  https://www.coursera.org/learn/write-a-feature...   \n",
       "1         Beginner  https://www.coursera.org/learn/canvas-analysis...   \n",
       "2         Advanced  https://www.coursera.org/learn/silicon-thin-fi...   \n",
       "3     Intermediate  https://www.coursera.org/learn/operational-fin...   \n",
       "4         Beginner  https://www.coursera.org/learn/single-table-sq...   \n",
       "\n",
       "                                              Skills  \n",
       "0  Drama  Comedy  peering  screenwriting  film  D...  \n",
       "1  Finance  business plan  persona (user experien...  \n",
       "2  chemistry  physics  Solar Energy  film  lambda...  \n",
       "3  accounts receivable  dupont analysis  analysis...  \n",
       "4  Data Analysis  select (sql)  database manageme...  "
      ]
     },
     "execution_count": 46,
     "metadata": {},
     "output_type": "execute_result"
    }
   ],
   "source": [
    "new_df = pd.concat([new_d,skills],axis =1)\n",
    "new_df.head()"
   ]
  },
  {
   "cell_type": "code",
   "execution_count": 47,
   "id": "219efd6a",
   "metadata": {},
   "outputs": [],
   "source": [
    "new_df['tags'] = data['tags'].str.replace(',',' ')"
   ]
  },
  {
   "cell_type": "code",
   "execution_count": 48,
   "id": "2dbab9ae",
   "metadata": {},
   "outputs": [],
   "source": [
    "new_df['Course Name'] = data['Course Name'].str.replace(',',' ')"
   ]
  },
  {
   "cell_type": "code",
   "execution_count": 49,
   "id": "d110cff6",
   "metadata": {},
   "outputs": [],
   "source": [
    "new_df.rename(columns = {'Course Name':'course_name'}, inplace = True)\n",
    "new_df.rename(columns = {\"Course URL\": \"course_url\"}, inplace = True)"
   ]
  },
  {
   "cell_type": "markdown",
   "id": "70c7a315",
   "metadata": {},
   "source": [
    "#### Vectorization"
   ]
  },
  {
   "cell_type": "code",
   "execution_count": 50,
   "id": "c96748dc",
   "metadata": {},
   "outputs": [],
   "source": [
    "from sklearn.feature_extraction.text import CountVectorizer\n",
    "cv = CountVectorizer(max_features=5000,stop_words='english')\n",
    "vectors = cv.fit_transform(new_df['tags']).toarray()"
   ]
  },
  {
   "cell_type": "code",
   "execution_count": 51,
   "id": "284e3e4b",
   "metadata": {},
   "outputs": [],
   "source": [
    "import nltk \n",
    "from nltk.stem.porter import PorterStemmer\n",
    "ps = PorterStemmer()\n",
    "def stem(text):\n",
    "    y=[]\n",
    "    \n",
    "    for i in text.split():\n",
    "        y.append(ps.stem(i))\n",
    "    \n",
    "    return \" \".join(y)"
   ]
  },
  {
   "cell_type": "code",
   "execution_count": 52,
   "id": "d4652888",
   "metadata": {},
   "outputs": [],
   "source": [
    "new_df['tags'] = new_df['tags'].apply(stem)"
   ]
  },
  {
   "cell_type": "markdown",
   "id": "15f178c0",
   "metadata": {},
   "source": [
    "#### Cosine simiilarity"
   ]
  },
  {
   "cell_type": "code",
   "execution_count": 53,
   "id": "5516c2a4",
   "metadata": {},
   "outputs": [],
   "source": [
    "from sklearn.metrics.pairwise import cosine_similarity\n",
    "similarity = cosine_similarity(vectors)"
   ]
  },
  {
   "cell_type": "code",
   "execution_count": 58,
   "id": "910c7397",
   "metadata": {},
   "outputs": [],
   "source": [
    "def recommend(course):\n",
    "    course_index = new_df[new_df['course_name'] == course].index[0]\n",
    "    distances = (similarity[course_index])\n",
    "    course_list = sorted(list(enumerate(distances)),reverse=True, key=lambda x:x[1])[1:5]\n",
    "    dist = pd.DataFrame(distances)\n",
    "   \n",
    "    \n",
    "    for i in course_list:\n",
    "        print(\"Name of the Course:\",new_df.iloc[i[0]].course_name)\n",
    "        print(\"Course URL\", new_df.iloc[i[0]].course_url)\n",
    "        print(\"Platform: \", new_df.iloc[i[0]].Platform)\n",
    "        print(\"Reason for recommending this course (Skills) :\", new_df.iloc[i[0]].Skills)\n",
    "        print(\"Score: \",dist.iloc[i[0]].tolist())  \n",
    "        print(\"-------------------------------------------------------------------------------------\")"
   ]
  },
  {
   "cell_type": "markdown",
   "id": "2b0881d5",
   "metadata": {},
   "source": [
    "#### Sample Output"
   ]
  },
  {
   "cell_type": "code",
   "execution_count": 59,
   "id": "7d7b3d68",
   "metadata": {},
   "outputs": [
    {
     "name": "stdout",
     "output_type": "stream",
     "text": [
      "Name of the Course: Python Data Analysis\n",
      "Course URL https://www.coursera.org/learn/python-analysis\n",
      "Platform:  Coursera\n",
      "Reason for recommending this course (Skills) : Data Visualization  jpeg  dict  Python Programming  Data Analysis  web scraping  analysis  nest  Computer Programming  recursion computer-science software-development\n",
      "Score:  [0.7601954544552082]\n",
      "-------------------------------------------------------------------------------------\n",
      "Name of the Course: Python Data Structures\n",
      "Course URL https://www.coursera.org/learn/python-data\n",
      "Platform:  Coursera\n",
      "Reason for recommending this course (Skills) : dict  Python Programming  python syntax and semantics  Problem Solving  Data Structures  language  Computer Programming  semantics  data type  syntax computer-science software-development\n",
      "Score:  [0.7150297714445646]\n",
      "-------------------------------------------------------------------------------------\n",
      "Name of the Course: Python Data Representations\n",
      "Course URL https://www.coursera.org/learn/python-representation\n",
      "Platform:  Coursera\n",
      "Reason for recommending this course (Skills) : immutable object  Python Programming  Smoothing  process  iteration  Computer Programming  Writing  arrays  substring  string (computer science) computer-science software-development\n",
      "Score:  [0.7077661083439765]\n",
      "-------------------------------------------------------------------------------------\n",
      "Name of the Course: Python Basics for Data Science\n",
      "Course URL https://www.edx.org/course/python-basics-for-data-science\n",
      "Platform:  edx\n",
      "Reason for recommending this course (Skills) : Kickstart your learning of Python for data science, as well as programming in general with this introduction to Python course. This beginner-friendly Python course will quickly take you from zero to programming in Python in a matter of hours and give you a taste of how to start working with data in Python. ~~~~Upon its completion, you'll be able to write your own Python scripts and perform basic hands-on data analysis using our Jupyter-based lab environment. If you want to learn Python from scratch, this course is for you.You can start creating your own data science projects and collaborating with other data scientists using IBM Watson Studio. When you sign up, you will receive free access to Watson Studio. Start now and take advantage of this platform and learn the basics of programming, machine learning, and data visualization with this Beginner course.The objectives of this course is to get you started with Python as the programming language and give you a taste of how to start working with data in Python.In this course you will learn about: Data Analysis & Statistics\n",
      "Score:  [0.7034321220161139]\n",
      "-------------------------------------------------------------------------------------\n"
     ]
    }
   ],
   "source": [
    "recommend(\"Python Data Visualization\") "
   ]
  },
  {
   "cell_type": "markdown",
   "id": "ddb2fd7b",
   "metadata": {},
   "source": [
    "#### To save the model"
   ]
  },
  {
   "cell_type": "code",
   "execution_count": 60,
   "id": "d041c750",
   "metadata": {},
   "outputs": [],
   "source": [
    "import pickle"
   ]
  },
  {
   "cell_type": "code",
   "execution_count": 61,
   "id": "e06c69ab",
   "metadata": {},
   "outputs": [],
   "source": [
    "pickle.dump(similarity,open('similarity.pkl','wb'))\n",
    "pickle.dump(new_df.to_dict(),open('course_list.pkl','wb')) #contains the dataframe in dict \n",
    "pickle.dump(new_df,open('courses.pkl','wb'))"
   ]
  }
 ],
 "metadata": {
  "kernelspec": {
   "display_name": "Python 3 (ipykernel)",
   "language": "python",
   "name": "python3"
  },
  "language_info": {
   "codemirror_mode": {
    "name": "ipython",
    "version": 3
   },
   "file_extension": ".py",
   "mimetype": "text/x-python",
   "name": "python",
   "nbconvert_exporter": "python",
   "pygments_lexer": "ipython3",
   "version": "3.10.9"
  }
 },
 "nbformat": 4,
 "nbformat_minor": 5
}
